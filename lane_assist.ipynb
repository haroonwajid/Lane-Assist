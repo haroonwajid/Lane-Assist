{
  "nbformat": 4,
  "nbformat_minor": 0,
  "metadata": {
    "colab": {
      "provenance": []
    },
    "kernelspec": {
      "name": "python3",
      "display_name": "Python 3"
    },
    "language_info": {
      "name": "python"
    }
  },
  "cells": [
    {
      "cell_type": "code",
      "execution_count": 1,
      "metadata": {
        "colab": {
          "base_uri": "https://localhost:8080/"
        },
        "id": "YExHSciK2d_U",
        "outputId": "a84ac11e-8b78-4fe4-da07-837b1d125233"
      },
      "outputs": [
        {
          "output_type": "stream",
          "name": "stdout",
          "text": [
            "Moviepy - Building video /content/lane-assist-updated.mp4.\n",
            "Moviepy - Writing video /content/lane-assist-updated.mp4\n",
            "\n"
          ]
        },
        {
          "output_type": "stream",
          "name": "stderr",
          "text": [
            "t: 100%|█████████▉| 25868/25875 [08:51<00:00, 71.76it/s, now=None]WARNING:py.warnings:/usr/local/lib/python3.10/dist-packages/moviepy/video/io/ffmpeg_reader.py:123: UserWarning: Warning: in file /content/lane-assist.mp4, 691200 bytes wanted but 0 bytes read,at frame 25874/25875, at time 863.33/863.34 sec. Using the last valid frame instead.\n",
            "  warnings.warn(\"Warning: in file %s, \"%(self.filename)+\n",
            "\n"
          ]
        },
        {
          "output_type": "stream",
          "name": "stdout",
          "text": [
            "Moviepy - Done !\n",
            "Moviepy - video ready /content/lane-assist-updated.mp4\n",
            "Extracted 25875 frames from the video without audio.\n"
          ]
        }
      ],
      "source": [
        "import cv2\n",
        "import os\n",
        "from moviepy.editor import VideoFileClip\n",
        "# Path to the input video file\n",
        "video_path = '/content/lane-assist.mp4'\n",
        "output_video_path = '/content/lane-assist-updated.mp4'\n",
        "# Directory to save the extracted frames\n",
        "output_dir = 'extracted_frames'\n",
        "os.makedirs(output_dir, exist_ok=True)\n",
        "# Load the video without audio using moviepy\n",
        "clip = VideoFileClip(video_path).without_audio()\n",
        "clip.write_videofile(output_video_path, codec='libx264', audio=False)\n",
        "# Open the video file without audio\n",
        "cap = cv2.VideoCapture(output_video_path)\n",
        "# Check if video opened successfully\n",
        "if not cap.isOpened():\n",
        "    print(\"Error: Could not open video.\")\n",
        "    exit()\n",
        "frame_count = 0\n",
        "while True:\n",
        "    ret, frame = cap.read()\n",
        "    if not ret:\n",
        "        break\n",
        "    # Save the frame as an image file\n",
        "    frame_filename = os.path.join(output_dir, f'frame_{frame_count:05d}.jpg')\n",
        "    cv2.imwrite(frame_filename, frame)\n",
        "    frame_count += 1\n",
        "cap.release()\n",
        "print(f\"Extracted {frame_count} frames from the video without audio.\")"
      ]
    }
  ]
}